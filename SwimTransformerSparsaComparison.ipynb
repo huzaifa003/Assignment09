{
  "nbformat": 4,
  "nbformat_minor": 0,
  "metadata": {
    "colab": {
      "provenance": [],
      "gpuType": "T4",
      "authorship_tag": "ABX9TyN0zsCeoi33hrsZ0rm0Bvqc",
      "include_colab_link": true
    },
    "kernelspec": {
      "name": "python3",
      "display_name": "Python 3"
    },
    "language_info": {
      "name": "python"
    },
    "accelerator": "GPU"
  },
  "cells": [
    {
      "cell_type": "markdown",
      "metadata": {
        "id": "view-in-github",
        "colab_type": "text"
      },
      "source": [
        "<a href=\"https://colab.research.google.com/github/huzaifa003/Assignment09/blob/main/SwimTransformerSparsaComparison.ipynb\" target=\"_parent\"><img src=\"https://colab.research.google.com/assets/colab-badge.svg\" alt=\"Open In Colab\"/></a>"
      ]
    },
    {
      "cell_type": "code",
      "execution_count": null,
      "metadata": {
        "colab": {
          "base_uri": "https://localhost:8080/"
        },
        "id": "x7SRvJvmjNb7",
        "outputId": "986dc6e2-efbd-4144-c274-1aadea5aae22"
      },
      "outputs": [
        {
          "output_type": "stream",
          "name": "stdout",
          "text": [
            "Cloning into 'SparseSwin'...\n",
            "remote: Enumerating objects: 657, done.\u001b[K\n",
            "remote: Counting objects: 100% (61/61), done.\u001b[K\n",
            "remote: Compressing objects: 100% (49/49), done.\u001b[K\n",
            "remote: Total 657 (delta 14), reused 54 (delta 11), pack-reused 596 (from 1)\u001b[K\n",
            "Receiving objects: 100% (657/657), 1.11 GiB | 16.66 MiB/s, done.\n",
            "Resolving deltas: 100% (50/50), done.\n",
            "Updating files: 100% (548/548), done.\n"
          ]
        }
      ],
      "source": [
        "!git clone https://github.com/KrisnaPinasthika/SparseSwin"
      ]
    },
    {
      "cell_type": "code",
      "source": [
        "%cd SparseSwin"
      ],
      "metadata": {
        "id": "uwhS3NpXjcoy"
      },
      "execution_count": null,
      "outputs": []
    },
    {
      "cell_type": "code",
      "source": [
        "!pip install timm"
      ],
      "metadata": {
        "colab": {
          "base_uri": "https://localhost:8080/"
        },
        "id": "UWLjChlSj6JC",
        "outputId": "9b2c90e6-49ae-410b-fbd3-f391da06f563"
      },
      "execution_count": null,
      "outputs": [
        {
          "output_type": "stream",
          "name": "stdout",
          "text": [
            "Requirement already satisfied: timm in /usr/local/lib/python3.11/dist-packages (1.0.19)\n",
            "Requirement already satisfied: torch in /usr/local/lib/python3.11/dist-packages (from timm) (2.6.0+cu124)\n",
            "Requirement already satisfied: torchvision in /usr/local/lib/python3.11/dist-packages (from timm) (0.21.0+cu124)\n",
            "Requirement already satisfied: pyyaml in /usr/local/lib/python3.11/dist-packages (from timm) (6.0.2)\n",
            "Requirement already satisfied: huggingface_hub in /usr/local/lib/python3.11/dist-packages (from timm) (0.33.5)\n",
            "Requirement already satisfied: safetensors in /usr/local/lib/python3.11/dist-packages (from timm) (0.5.3)\n",
            "Requirement already satisfied: filelock in /usr/local/lib/python3.11/dist-packages (from huggingface_hub->timm) (3.18.0)\n",
            "Requirement already satisfied: fsspec>=2023.5.0 in /usr/local/lib/python3.11/dist-packages (from huggingface_hub->timm) (2025.3.0)\n",
            "Requirement already satisfied: packaging>=20.9 in /usr/local/lib/python3.11/dist-packages (from huggingface_hub->timm) (25.0)\n",
            "Requirement already satisfied: requests in /usr/local/lib/python3.11/dist-packages (from huggingface_hub->timm) (2.32.3)\n",
            "Requirement already satisfied: tqdm>=4.42.1 in /usr/local/lib/python3.11/dist-packages (from huggingface_hub->timm) (4.67.1)\n",
            "Requirement already satisfied: typing-extensions>=3.7.4.3 in /usr/local/lib/python3.11/dist-packages (from huggingface_hub->timm) (4.14.1)\n",
            "Requirement already satisfied: hf-xet<2.0.0,>=1.1.2 in /usr/local/lib/python3.11/dist-packages (from huggingface_hub->timm) (1.1.5)\n",
            "Requirement already satisfied: networkx in /usr/local/lib/python3.11/dist-packages (from torch->timm) (3.5)\n",
            "Requirement already satisfied: jinja2 in /usr/local/lib/python3.11/dist-packages (from torch->timm) (3.1.6)\n",
            "Collecting nvidia-cuda-nvrtc-cu12==12.4.127 (from torch->timm)\n",
            "  Downloading nvidia_cuda_nvrtc_cu12-12.4.127-py3-none-manylinux2014_x86_64.whl.metadata (1.5 kB)\n",
            "Collecting nvidia-cuda-runtime-cu12==12.4.127 (from torch->timm)\n",
            "  Downloading nvidia_cuda_runtime_cu12-12.4.127-py3-none-manylinux2014_x86_64.whl.metadata (1.5 kB)\n",
            "Collecting nvidia-cuda-cupti-cu12==12.4.127 (from torch->timm)\n",
            "  Downloading nvidia_cuda_cupti_cu12-12.4.127-py3-none-manylinux2014_x86_64.whl.metadata (1.6 kB)\n",
            "Collecting nvidia-cudnn-cu12==9.1.0.70 (from torch->timm)\n",
            "  Downloading nvidia_cudnn_cu12-9.1.0.70-py3-none-manylinux2014_x86_64.whl.metadata (1.6 kB)\n",
            "Collecting nvidia-cublas-cu12==12.4.5.8 (from torch->timm)\n",
            "  Downloading nvidia_cublas_cu12-12.4.5.8-py3-none-manylinux2014_x86_64.whl.metadata (1.5 kB)\n",
            "Collecting nvidia-cufft-cu12==11.2.1.3 (from torch->timm)\n",
            "  Downloading nvidia_cufft_cu12-11.2.1.3-py3-none-manylinux2014_x86_64.whl.metadata (1.5 kB)\n",
            "Collecting nvidia-curand-cu12==10.3.5.147 (from torch->timm)\n",
            "  Downloading nvidia_curand_cu12-10.3.5.147-py3-none-manylinux2014_x86_64.whl.metadata (1.5 kB)\n",
            "Collecting nvidia-cusolver-cu12==11.6.1.9 (from torch->timm)\n",
            "  Downloading nvidia_cusolver_cu12-11.6.1.9-py3-none-manylinux2014_x86_64.whl.metadata (1.6 kB)\n",
            "Collecting nvidia-cusparse-cu12==12.3.1.170 (from torch->timm)\n",
            "  Downloading nvidia_cusparse_cu12-12.3.1.170-py3-none-manylinux2014_x86_64.whl.metadata (1.6 kB)\n",
            "Requirement already satisfied: nvidia-cusparselt-cu12==0.6.2 in /usr/local/lib/python3.11/dist-packages (from torch->timm) (0.6.2)\n",
            "Requirement already satisfied: nvidia-nccl-cu12==2.21.5 in /usr/local/lib/python3.11/dist-packages (from torch->timm) (2.21.5)\n",
            "Requirement already satisfied: nvidia-nvtx-cu12==12.4.127 in /usr/local/lib/python3.11/dist-packages (from torch->timm) (12.4.127)\n",
            "Collecting nvidia-nvjitlink-cu12==12.4.127 (from torch->timm)\n",
            "  Downloading nvidia_nvjitlink_cu12-12.4.127-py3-none-manylinux2014_x86_64.whl.metadata (1.5 kB)\n",
            "Requirement already satisfied: triton==3.2.0 in /usr/local/lib/python3.11/dist-packages (from torch->timm) (3.2.0)\n",
            "Requirement already satisfied: sympy==1.13.1 in /usr/local/lib/python3.11/dist-packages (from torch->timm) (1.13.1)\n",
            "Requirement already satisfied: mpmath<1.4,>=1.1.0 in /usr/local/lib/python3.11/dist-packages (from sympy==1.13.1->torch->timm) (1.3.0)\n",
            "Requirement already satisfied: numpy in /usr/local/lib/python3.11/dist-packages (from torchvision->timm) (2.0.2)\n",
            "Requirement already satisfied: pillow!=8.3.*,>=5.3.0 in /usr/local/lib/python3.11/dist-packages (from torchvision->timm) (11.3.0)\n",
            "Requirement already satisfied: MarkupSafe>=2.0 in /usr/local/lib/python3.11/dist-packages (from jinja2->torch->timm) (3.0.2)\n",
            "Requirement already satisfied: charset-normalizer<4,>=2 in /usr/local/lib/python3.11/dist-packages (from requests->huggingface_hub->timm) (3.4.2)\n",
            "Requirement already satisfied: idna<4,>=2.5 in /usr/local/lib/python3.11/dist-packages (from requests->huggingface_hub->timm) (3.10)\n",
            "Requirement already satisfied: urllib3<3,>=1.21.1 in /usr/local/lib/python3.11/dist-packages (from requests->huggingface_hub->timm) (2.5.0)\n",
            "Requirement already satisfied: certifi>=2017.4.17 in /usr/local/lib/python3.11/dist-packages (from requests->huggingface_hub->timm) (2025.7.14)\n",
            "Downloading nvidia_cublas_cu12-12.4.5.8-py3-none-manylinux2014_x86_64.whl (363.4 MB)\n",
            "\u001b[2K   \u001b[90m━━━━━━━━━━━━━━━━━━━━━━━━━━━━━━━━━━━━━━━━\u001b[0m \u001b[32m363.4/363.4 MB\u001b[0m \u001b[31m3.7 MB/s\u001b[0m eta \u001b[36m0:00:00\u001b[0m\n",
            "\u001b[?25hDownloading nvidia_cuda_cupti_cu12-12.4.127-py3-none-manylinux2014_x86_64.whl (13.8 MB)\n",
            "\u001b[2K   \u001b[90m━━━━━━━━━━━━━━━━━━━━━━━━━━━━━━━━━━━━━━━━\u001b[0m \u001b[32m13.8/13.8 MB\u001b[0m \u001b[31m127.2 MB/s\u001b[0m eta \u001b[36m0:00:00\u001b[0m\n",
            "\u001b[?25hDownloading nvidia_cuda_nvrtc_cu12-12.4.127-py3-none-manylinux2014_x86_64.whl (24.6 MB)\n",
            "\u001b[2K   \u001b[90m━━━━━━━━━━━━━━━━━━━━━━━━━━━━━━━━━━━━━━━━\u001b[0m \u001b[32m24.6/24.6 MB\u001b[0m \u001b[31m84.3 MB/s\u001b[0m eta \u001b[36m0:00:00\u001b[0m\n",
            "\u001b[?25hDownloading nvidia_cuda_runtime_cu12-12.4.127-py3-none-manylinux2014_x86_64.whl (883 kB)\n",
            "\u001b[2K   \u001b[90m━━━━━━━━━━━━━━━━━━━━━━━━━━━━━━━━━━━━━━━━\u001b[0m \u001b[32m883.7/883.7 kB\u001b[0m \u001b[31m64.0 MB/s\u001b[0m eta \u001b[36m0:00:00\u001b[0m\n",
            "\u001b[?25hDownloading nvidia_cudnn_cu12-9.1.0.70-py3-none-manylinux2014_x86_64.whl (664.8 MB)\n",
            "\u001b[2K   \u001b[90m━━━━━━━━━━━━━━━━━━━━━━━━━━━━━━━━━━━━━━━━\u001b[0m \u001b[32m664.8/664.8 MB\u001b[0m \u001b[31m2.0 MB/s\u001b[0m eta \u001b[36m0:00:00\u001b[0m\n",
            "\u001b[?25hDownloading nvidia_cufft_cu12-11.2.1.3-py3-none-manylinux2014_x86_64.whl (211.5 MB)\n",
            "\u001b[2K   \u001b[90m━━━━━━━━━━━━━━━━━━━━━━━━━━━━━━━━━━━━━━━━\u001b[0m \u001b[32m211.5/211.5 MB\u001b[0m \u001b[31m5.4 MB/s\u001b[0m eta \u001b[36m0:00:00\u001b[0m\n",
            "\u001b[?25hDownloading nvidia_curand_cu12-10.3.5.147-py3-none-manylinux2014_x86_64.whl (56.3 MB)\n",
            "\u001b[2K   \u001b[90m━━━━━━━━━━━━━━━━━━━━━━━━━━━━━━━━━━━━━━━━\u001b[0m \u001b[32m56.3/56.3 MB\u001b[0m \u001b[31m16.2 MB/s\u001b[0m eta \u001b[36m0:00:00\u001b[0m\n",
            "\u001b[?25hDownloading nvidia_cusolver_cu12-11.6.1.9-py3-none-manylinux2014_x86_64.whl (127.9 MB)\n",
            "\u001b[2K   \u001b[90m━━━━━━━━━━━━━━━━━━━━━━━━━━━━━━━━━━━━━━━━\u001b[0m \u001b[32m127.9/127.9 MB\u001b[0m \u001b[31m7.3 MB/s\u001b[0m eta \u001b[36m0:00:00\u001b[0m\n",
            "\u001b[?25hDownloading nvidia_cusparse_cu12-12.3.1.170-py3-none-manylinux2014_x86_64.whl (207.5 MB)\n",
            "\u001b[2K   \u001b[90m━━━━━━━━━━━━━━━━━━━━━━━━━━━━━━━━━━━━━━━━\u001b[0m \u001b[32m207.5/207.5 MB\u001b[0m \u001b[31m4.6 MB/s\u001b[0m eta \u001b[36m0:00:00\u001b[0m\n",
            "\u001b[?25hDownloading nvidia_nvjitlink_cu12-12.4.127-py3-none-manylinux2014_x86_64.whl (21.1 MB)\n",
            "\u001b[2K   \u001b[90m━━━━━━━━━━━━━━━━━━━━━━━━━━━━━━━━━━━━━━━━\u001b[0m \u001b[32m21.1/21.1 MB\u001b[0m \u001b[31m70.4 MB/s\u001b[0m eta \u001b[36m0:00:00\u001b[0m\n",
            "\u001b[?25hInstalling collected packages: nvidia-nvjitlink-cu12, nvidia-curand-cu12, nvidia-cufft-cu12, nvidia-cuda-runtime-cu12, nvidia-cuda-nvrtc-cu12, nvidia-cuda-cupti-cu12, nvidia-cublas-cu12, nvidia-cusparse-cu12, nvidia-cudnn-cu12, nvidia-cusolver-cu12\n",
            "  Attempting uninstall: nvidia-nvjitlink-cu12\n",
            "    Found existing installation: nvidia-nvjitlink-cu12 12.5.82\n",
            "    Uninstalling nvidia-nvjitlink-cu12-12.5.82:\n",
            "      Successfully uninstalled nvidia-nvjitlink-cu12-12.5.82\n",
            "  Attempting uninstall: nvidia-curand-cu12\n",
            "    Found existing installation: nvidia-curand-cu12 10.3.6.82\n",
            "    Uninstalling nvidia-curand-cu12-10.3.6.82:\n",
            "      Successfully uninstalled nvidia-curand-cu12-10.3.6.82\n",
            "  Attempting uninstall: nvidia-cufft-cu12\n",
            "    Found existing installation: nvidia-cufft-cu12 11.2.3.61\n",
            "    Uninstalling nvidia-cufft-cu12-11.2.3.61:\n",
            "      Successfully uninstalled nvidia-cufft-cu12-11.2.3.61\n",
            "  Attempting uninstall: nvidia-cuda-runtime-cu12\n",
            "    Found existing installation: nvidia-cuda-runtime-cu12 12.5.82\n",
            "    Uninstalling nvidia-cuda-runtime-cu12-12.5.82:\n",
            "      Successfully uninstalled nvidia-cuda-runtime-cu12-12.5.82\n",
            "  Attempting uninstall: nvidia-cuda-nvrtc-cu12\n",
            "    Found existing installation: nvidia-cuda-nvrtc-cu12 12.5.82\n",
            "    Uninstalling nvidia-cuda-nvrtc-cu12-12.5.82:\n",
            "      Successfully uninstalled nvidia-cuda-nvrtc-cu12-12.5.82\n",
            "  Attempting uninstall: nvidia-cuda-cupti-cu12\n",
            "    Found existing installation: nvidia-cuda-cupti-cu12 12.5.82\n",
            "    Uninstalling nvidia-cuda-cupti-cu12-12.5.82:\n",
            "      Successfully uninstalled nvidia-cuda-cupti-cu12-12.5.82\n",
            "  Attempting uninstall: nvidia-cublas-cu12\n",
            "    Found existing installation: nvidia-cublas-cu12 12.5.3.2\n",
            "    Uninstalling nvidia-cublas-cu12-12.5.3.2:\n",
            "      Successfully uninstalled nvidia-cublas-cu12-12.5.3.2\n",
            "  Attempting uninstall: nvidia-cusparse-cu12\n",
            "    Found existing installation: nvidia-cusparse-cu12 12.5.1.3\n",
            "    Uninstalling nvidia-cusparse-cu12-12.5.1.3:\n",
            "      Successfully uninstalled nvidia-cusparse-cu12-12.5.1.3\n",
            "  Attempting uninstall: nvidia-cudnn-cu12\n",
            "    Found existing installation: nvidia-cudnn-cu12 9.3.0.75\n",
            "    Uninstalling nvidia-cudnn-cu12-9.3.0.75:\n",
            "      Successfully uninstalled nvidia-cudnn-cu12-9.3.0.75\n",
            "  Attempting uninstall: nvidia-cusolver-cu12\n",
            "    Found existing installation: nvidia-cusolver-cu12 11.6.3.83\n",
            "    Uninstalling nvidia-cusolver-cu12-11.6.3.83:\n",
            "      Successfully uninstalled nvidia-cusolver-cu12-11.6.3.83\n",
            "Successfully installed nvidia-cublas-cu12-12.4.5.8 nvidia-cuda-cupti-cu12-12.4.127 nvidia-cuda-nvrtc-cu12-12.4.127 nvidia-cuda-runtime-cu12-12.4.127 nvidia-cudnn-cu12-9.1.0.70 nvidia-cufft-cu12-11.2.1.3 nvidia-curand-cu12-10.3.5.147 nvidia-cusolver-cu12-11.6.1.9 nvidia-cusparse-cu12-12.3.1.170 nvidia-nvjitlink-cu12-12.4.127\n"
          ]
        }
      ]
    },
    {
      "cell_type": "code",
      "source": [
        "%cd SparseSwin"
      ],
      "metadata": {
        "colab": {
          "base_uri": "https://localhost:8080/"
        },
        "id": "CLrTy1iKmG4X",
        "outputId": "666a3554-641d-4c98-91b4-4a289388cfdc"
      },
      "execution_count": null,
      "outputs": [
        {
          "output_type": "stream",
          "name": "stdout",
          "text": [
            "/content/SparseSwin\n"
          ]
        }
      ]
    },
    {
      "cell_type": "code",
      "source": [
        "!python train_cifar.py --swin_type tiny \\\n",
        "                      --img_res 224 \\\n",
        "\n",
        "\n",
        "\n"
      ],
      "metadata": {
        "colab": {
          "base_uri": "https://localhost:8080/"
        },
        "id": "VsS1pPx0j7nU",
        "outputId": "274fcad3-7abd-434d-f680-7e2b59532a51"
      },
      "execution_count": null,
      "outputs": [
        {
          "output_type": "stream",
          "name": "stdout",
          "text": [
            "[TRAIN] Total : 782 | type : tiny | Regularization : None with lamda : 0.0\n",
            "Epoch 1/100\n",
            "  [200/782] Loss: 2.0311 Acc : 0.2398\n",
            "  [400/782] Loss: 1.9791 Acc : 0.2607\n",
            "  [600/782] Loss: 1.9187 Acc : 0.2865\n",
            "  [782/782] Loss: 1.8747 Acc : 0.3052\n",
            "Loss: 1.8747 Acc : 0.3052\n",
            "[TEST] Total : 157 | type : tiny\n",
            "[Model : tiny] Loss: 1.6510 Acc : 0.3834\n",
            "\n",
            "Epoch 2/100\n",
            "  [200/782] Loss: 1.6563 Acc : 0.3931\n",
            "  [400/782] Loss: 1.6244 Acc : 0.4041\n",
            "  [600/782] Loss: 1.5938 Acc : 0.4189\n",
            "  [782/782] Loss: 1.5710 Acc : 0.4290\n",
            "Loss: 1.5710 Acc : 0.4290\n",
            "[TEST] Total : 157 | type : tiny\n",
            "[Model : tiny] Loss: 1.3973 Acc : 0.4997\n",
            "\n",
            "Epoch 3/100\n",
            "  [200/782] Loss: 1.4571 Acc : 0.4749\n",
            "  [400/782] Loss: 1.4375 Acc : 0.4844\n",
            "  [600/782] Loss: 1.4150 Acc : 0.4909\n",
            "  [782/782] Loss: 1.4105 Acc : 0.4919\n",
            "Loss: 1.4105 Acc : 0.4919\n",
            "[TEST] Total : 157 | type : tiny\n",
            "[Model : tiny] Loss: 1.2342 Acc : 0.5583\n",
            "\n",
            "Epoch 4/100\n",
            "  [200/782] Loss: 1.3424 Acc : 0.5170\n",
            "  [400/782] Loss: 1.3315 Acc : 0.5182\n",
            "  [600/782] Loss: 1.3259 Acc : 0.5205\n",
            "  [782/782] Loss: 1.3205 Acc : 0.5231\n",
            "Loss: 1.3205 Acc : 0.5231\n",
            "[TEST] Total : 157 | type : tiny\n",
            "[Model : tiny] Loss: 1.1933 Acc : 0.5709\n",
            "\n",
            "Epoch 5/100\n",
            "  [200/782] Loss: 1.2742 Acc : 0.5452\n",
            "  [400/782] Loss: 1.2657 Acc : 0.5482\n",
            "  [600/782] Loss: 1.2547 Acc : 0.5524\n",
            "  [782/782] Loss: 1.2490 Acc : 0.5539\n",
            "Loss: 1.2490 Acc : 0.5539\n",
            "[TEST] Total : 157 | type : tiny\n",
            "[Model : tiny] Loss: 1.1636 Acc : 0.5772\n",
            "\n",
            "Epoch 6/100\n",
            "  [200/782] Loss: 1.2128 Acc : 0.5633\n",
            "  [400/782] Loss: 1.2008 Acc : 0.5723\n",
            "  [600/782] Loss: 1.1962 Acc : 0.5727\n",
            "  [782/782] Loss: 1.1978 Acc : 0.5735\n",
            "Loss: 1.1978 Acc : 0.5735\n",
            "[TEST] Total : 157 | type : tiny\n",
            "[Model : tiny] Loss: 1.0639 Acc : 0.6261\n",
            "\n",
            "Epoch 7/100\n",
            "  [200/782] Loss: 1.1673 Acc : 0.5820\n",
            "  [400/782] Loss: 1.1493 Acc : 0.5880\n",
            "  [600/782] Loss: 1.1469 Acc : 0.5911\n",
            "  [782/782] Loss: 1.1421 Acc : 0.5943\n",
            "Loss: 1.1421 Acc : 0.5943\n",
            "[TEST] Total : 157 | type : tiny\n",
            "[Model : tiny] Loss: 1.0211 Acc : 0.6357\n",
            "\n",
            "Epoch 8/100\n",
            "  [200/782] Loss: 1.1223 Acc : 0.6001\n",
            "  [400/782] Loss: 1.1173 Acc : 0.6041\n",
            "  [600/782] Loss: 1.1119 Acc : 0.6045\n",
            "  [782/782] Loss: 1.1039 Acc : 0.6071\n",
            "Loss: 1.1039 Acc : 0.6071\n",
            "[TEST] Total : 157 | type : tiny\n",
            "[Model : tiny] Loss: 1.0082 Acc : 0.6497\n",
            "\n",
            "Epoch 9/100\n",
            "  [200/782] Loss: 1.0779 Acc : 0.6198\n",
            "  [400/782] Loss: 1.0747 Acc : 0.6170\n",
            "  [600/782] Loss: 1.0688 Acc : 0.6206\n",
            "  [782/782] Loss: 1.0670 Acc : 0.6206\n",
            "Loss: 1.0670 Acc : 0.6206\n",
            "[TEST] Total : 157 | type : tiny\n",
            "[Model : tiny] Loss: 0.9063 Acc : 0.6842\n",
            "\n",
            "Epoch 10/100\n",
            "  [200/782] Loss: 1.0326 Acc : 0.6374\n",
            "  [400/782] Loss: 1.0398 Acc : 0.6307\n",
            "  [600/782] Loss: 1.0377 Acc : 0.6337\n",
            "  [782/782] Loss: 1.0298 Acc : 0.6367\n",
            "Loss: 1.0298 Acc : 0.6367\n",
            "[TEST] Total : 157 | type : tiny\n",
            "[Model : tiny] Loss: 0.9292 Acc : 0.6744\n",
            "\n",
            "Epoch 11/100\n",
            "  [200/782] Loss: 1.0104 Acc : 0.6446\n",
            "  [400/782] Loss: 1.0085 Acc : 0.6459\n",
            "  [600/782] Loss: 1.0032 Acc : 0.6463\n",
            "  [782/782] Loss: 1.0069 Acc : 0.6445\n",
            "Loss: 1.0069 Acc : 0.6445\n",
            "[TEST] Total : 157 | type : tiny\n",
            "[Model : tiny] Loss: 0.8797 Acc : 0.6935\n",
            "\n",
            "Epoch 12/100\n",
            "  [200/782] Loss: 0.9630 Acc : 0.6617\n",
            "  [400/782] Loss: 0.9748 Acc : 0.6561\n",
            "  [600/782] Loss: 0.9776 Acc : 0.6566\n",
            "  [782/782] Loss: 0.9745 Acc : 0.6569\n",
            "Loss: 0.9745 Acc : 0.6569\n",
            "[TEST] Total : 157 | type : tiny\n",
            "[Model : tiny] Loss: 0.8913 Acc : 0.6898\n",
            "\n",
            "Epoch 13/100\n",
            "  [200/782] Loss: 0.9570 Acc : 0.6609\n",
            "  [400/782] Loss: 0.9584 Acc : 0.6615\n",
            "  [600/782] Loss: 0.9568 Acc : 0.6622\n",
            "  [782/782] Loss: 0.9541 Acc : 0.6631\n",
            "Loss: 0.9541 Acc : 0.6631\n",
            "[TEST] Total : 157 | type : tiny\n",
            "[Model : tiny] Loss: 0.8680 Acc : 0.6945\n",
            "\n",
            "Epoch 14/100\n",
            "  [200/782] Loss: 0.9261 Acc : 0.6687\n",
            "  [400/782] Loss: 0.9295 Acc : 0.6696\n",
            "  [600/782] Loss: 0.9309 Acc : 0.6688\n",
            "  [782/782] Loss: 0.9309 Acc : 0.6690\n",
            "Loss: 0.9309 Acc : 0.6690\n",
            "[TEST] Total : 157 | type : tiny\n",
            "[Model : tiny] Loss: 0.8567 Acc : 0.7022\n",
            "\n",
            "Epoch 15/100\n",
            "  [200/782] Loss: 0.8898 Acc : 0.6811\n",
            "  [400/782] Loss: 0.9018 Acc : 0.6798\n",
            "  [600/782] Loss: 0.8970 Acc : 0.6817\n",
            "  [782/782] Loss: 0.9003 Acc : 0.6804\n",
            "Loss: 0.9003 Acc : 0.6804\n",
            "[TEST] Total : 157 | type : tiny\n",
            "[Model : tiny] Loss: 0.7871 Acc : 0.7256\n",
            "\n",
            "Epoch 16/100\n",
            "  [200/782] Loss: 0.8941 Acc : 0.6871\n",
            "  [400/782] Loss: 0.8960 Acc : 0.6852\n",
            "  [600/782] Loss: 0.8929 Acc : 0.6861\n",
            "  [782/782] Loss: 0.8921 Acc : 0.6864\n",
            "Loss: 0.8921 Acc : 0.6864\n",
            "[TEST] Total : 157 | type : tiny\n",
            "[Model : tiny] Loss: 0.7448 Acc : 0.7423\n",
            "\n",
            "Epoch 17/100\n",
            "  [200/782] Loss: 0.8694 Acc : 0.6930\n",
            "  [400/782] Loss: 0.8643 Acc : 0.6944\n",
            "  [600/782] Loss: 0.8679 Acc : 0.6935\n",
            "  [782/782] Loss: 0.8657 Acc : 0.6945\n",
            "Loss: 0.8657 Acc : 0.6945\n",
            "[TEST] Total : 157 | type : tiny\n",
            "[Model : tiny] Loss: 0.7634 Acc : 0.7387\n",
            "\n",
            "Epoch 18/100\n",
            "  [200/782] Loss: 0.8410 Acc : 0.7027\n",
            "  [400/782] Loss: 0.8420 Acc : 0.7046\n",
            "  [600/782] Loss: 0.8401 Acc : 0.7034\n",
            "  [782/782] Loss: 0.8444 Acc : 0.7029\n",
            "Loss: 0.8444 Acc : 0.7029\n",
            "[TEST] Total : 157 | type : tiny\n",
            "[Model : tiny] Loss: 0.7295 Acc : 0.7453\n",
            "\n",
            "Epoch 19/100\n"
          ]
        }
      ]
    },
    {
      "cell_type": "code",
      "source": [],
      "metadata": {
        "id": "1wVQfXRrmF2C"
      },
      "execution_count": null,
      "outputs": []
    }
  ]
}